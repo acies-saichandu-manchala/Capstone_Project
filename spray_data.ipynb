{
 "cells": [
  {
   "cell_type": "code",
   "execution_count": 56,
   "metadata": {},
   "outputs": [],
   "source": [
    "import pandas as pd\n",
    "import numpy as np\n",
    "import matplotlib.pyplot as plt\n",
    "import seaborn as sns"
   ]
  },
  {
   "cell_type": "code",
   "execution_count": 57,
   "metadata": {},
   "outputs": [],
   "source": [
    "train_df = pd.read_csv('input/train.csv')\n",
    "test_df = pd.read_csv('input/test.csv')\n",
    "spray_df = pd.read_csv('input/spray.csv')\n",
    "weather_df = pd.read_csv('input/weather.csv')"
   ]
  },
  {
   "cell_type": "code",
   "execution_count": 58,
   "metadata": {},
   "outputs": [
    {
     "data": {
      "text/html": [
       "<div>\n",
       "<style scoped>\n",
       "    .dataframe tbody tr th:only-of-type {\n",
       "        vertical-align: middle;\n",
       "    }\n",
       "\n",
       "    .dataframe tbody tr th {\n",
       "        vertical-align: top;\n",
       "    }\n",
       "\n",
       "    .dataframe thead th {\n",
       "        text-align: right;\n",
       "    }\n",
       "</style>\n",
       "<table border=\"1\" class=\"dataframe\">\n",
       "  <thead>\n",
       "    <tr style=\"text-align: right;\">\n",
       "      <th></th>\n",
       "      <th>Date</th>\n",
       "      <th>Time</th>\n",
       "      <th>Latitude</th>\n",
       "      <th>Longitude</th>\n",
       "    </tr>\n",
       "  </thead>\n",
       "  <tbody>\n",
       "    <tr>\n",
       "      <th>0</th>\n",
       "      <td>2011-08-29</td>\n",
       "      <td>6:56:58 PM</td>\n",
       "      <td>42.391623</td>\n",
       "      <td>-88.089163</td>\n",
       "    </tr>\n",
       "    <tr>\n",
       "      <th>1</th>\n",
       "      <td>2011-08-29</td>\n",
       "      <td>6:57:08 PM</td>\n",
       "      <td>42.391348</td>\n",
       "      <td>-88.089163</td>\n",
       "    </tr>\n",
       "    <tr>\n",
       "      <th>2</th>\n",
       "      <td>2011-08-29</td>\n",
       "      <td>6:57:18 PM</td>\n",
       "      <td>42.391022</td>\n",
       "      <td>-88.089157</td>\n",
       "    </tr>\n",
       "    <tr>\n",
       "      <th>3</th>\n",
       "      <td>2011-08-29</td>\n",
       "      <td>6:57:28 PM</td>\n",
       "      <td>42.390637</td>\n",
       "      <td>-88.089158</td>\n",
       "    </tr>\n",
       "    <tr>\n",
       "      <th>4</th>\n",
       "      <td>2011-08-29</td>\n",
       "      <td>6:57:38 PM</td>\n",
       "      <td>42.390410</td>\n",
       "      <td>-88.088858</td>\n",
       "    </tr>\n",
       "  </tbody>\n",
       "</table>\n",
       "</div>"
      ],
      "text/plain": [
       "         Date        Time   Latitude  Longitude\n",
       "0  2011-08-29  6:56:58 PM  42.391623 -88.089163\n",
       "1  2011-08-29  6:57:08 PM  42.391348 -88.089163\n",
       "2  2011-08-29  6:57:18 PM  42.391022 -88.089157\n",
       "3  2011-08-29  6:57:28 PM  42.390637 -88.089158\n",
       "4  2011-08-29  6:57:38 PM  42.390410 -88.088858"
      ]
     },
     "execution_count": 58,
     "metadata": {},
     "output_type": "execute_result"
    }
   ],
   "source": [
    "spray_df.head()"
   ]
  },
  {
   "cell_type": "code",
   "execution_count": 59,
   "metadata": {},
   "outputs": [
    {
     "data": {
      "text/html": [
       "<div>\n",
       "<style scoped>\n",
       "    .dataframe tbody tr th:only-of-type {\n",
       "        vertical-align: middle;\n",
       "    }\n",
       "\n",
       "    .dataframe tbody tr th {\n",
       "        vertical-align: top;\n",
       "    }\n",
       "\n",
       "    .dataframe thead th {\n",
       "        text-align: right;\n",
       "    }\n",
       "</style>\n",
       "<table border=\"1\" class=\"dataframe\">\n",
       "  <thead>\n",
       "    <tr style=\"text-align: right;\">\n",
       "      <th></th>\n",
       "      <th>Date</th>\n",
       "      <th>Time</th>\n",
       "      <th>Latitude</th>\n",
       "      <th>Longitude</th>\n",
       "    </tr>\n",
       "  </thead>\n",
       "  <tbody>\n",
       "    <tr>\n",
       "      <th>0</th>\n",
       "      <td>2011-08-29</td>\n",
       "      <td>6:56:58 PM</td>\n",
       "      <td>42.391623</td>\n",
       "      <td>-88.089163</td>\n",
       "    </tr>\n",
       "    <tr>\n",
       "      <th>1</th>\n",
       "      <td>2011-08-29</td>\n",
       "      <td>6:57:08 PM</td>\n",
       "      <td>42.391348</td>\n",
       "      <td>-88.089163</td>\n",
       "    </tr>\n",
       "    <tr>\n",
       "      <th>2</th>\n",
       "      <td>2011-08-29</td>\n",
       "      <td>6:57:18 PM</td>\n",
       "      <td>42.391022</td>\n",
       "      <td>-88.089157</td>\n",
       "    </tr>\n",
       "    <tr>\n",
       "      <th>3</th>\n",
       "      <td>2011-08-29</td>\n",
       "      <td>6:57:28 PM</td>\n",
       "      <td>42.390637</td>\n",
       "      <td>-88.089158</td>\n",
       "    </tr>\n",
       "    <tr>\n",
       "      <th>4</th>\n",
       "      <td>2011-08-29</td>\n",
       "      <td>6:57:38 PM</td>\n",
       "      <td>42.390410</td>\n",
       "      <td>-88.088858</td>\n",
       "    </tr>\n",
       "    <tr>\n",
       "      <th>...</th>\n",
       "      <td>...</td>\n",
       "      <td>...</td>\n",
       "      <td>...</td>\n",
       "      <td>...</td>\n",
       "    </tr>\n",
       "    <tr>\n",
       "      <th>14830</th>\n",
       "      <td>2013-09-05</td>\n",
       "      <td>8:34:11 PM</td>\n",
       "      <td>42.006587</td>\n",
       "      <td>-87.812355</td>\n",
       "    </tr>\n",
       "    <tr>\n",
       "      <th>14831</th>\n",
       "      <td>2013-09-05</td>\n",
       "      <td>8:35:01 PM</td>\n",
       "      <td>42.006192</td>\n",
       "      <td>-87.816015</td>\n",
       "    </tr>\n",
       "    <tr>\n",
       "      <th>14832</th>\n",
       "      <td>2013-09-05</td>\n",
       "      <td>8:35:21 PM</td>\n",
       "      <td>42.006022</td>\n",
       "      <td>-87.817392</td>\n",
       "    </tr>\n",
       "    <tr>\n",
       "      <th>14833</th>\n",
       "      <td>2013-09-05</td>\n",
       "      <td>8:35:31 PM</td>\n",
       "      <td>42.005453</td>\n",
       "      <td>-87.817423</td>\n",
       "    </tr>\n",
       "    <tr>\n",
       "      <th>14834</th>\n",
       "      <td>2013-09-05</td>\n",
       "      <td>8:35:41 PM</td>\n",
       "      <td>42.004805</td>\n",
       "      <td>-87.817460</td>\n",
       "    </tr>\n",
       "  </tbody>\n",
       "</table>\n",
       "<p>14835 rows × 4 columns</p>\n",
       "</div>"
      ],
      "text/plain": [
       "             Date        Time   Latitude  Longitude\n",
       "0      2011-08-29  6:56:58 PM  42.391623 -88.089163\n",
       "1      2011-08-29  6:57:08 PM  42.391348 -88.089163\n",
       "2      2011-08-29  6:57:18 PM  42.391022 -88.089157\n",
       "3      2011-08-29  6:57:28 PM  42.390637 -88.089158\n",
       "4      2011-08-29  6:57:38 PM  42.390410 -88.088858\n",
       "...           ...         ...        ...        ...\n",
       "14830  2013-09-05  8:34:11 PM  42.006587 -87.812355\n",
       "14831  2013-09-05  8:35:01 PM  42.006192 -87.816015\n",
       "14832  2013-09-05  8:35:21 PM  42.006022 -87.817392\n",
       "14833  2013-09-05  8:35:31 PM  42.005453 -87.817423\n",
       "14834  2013-09-05  8:35:41 PM  42.004805 -87.817460\n",
       "\n",
       "[14835 rows x 4 columns]"
      ]
     },
     "execution_count": 59,
     "metadata": {},
     "output_type": "execute_result"
    }
   ],
   "source": [
    "spray_df"
   ]
  },
  {
   "cell_type": "code",
   "execution_count": 60,
   "metadata": {},
   "outputs": [
    {
     "data": {
      "text/plain": [
       "Index(['Date', 'Time', 'Latitude', 'Longitude'], dtype='object')"
      ]
     },
     "execution_count": 60,
     "metadata": {},
     "output_type": "execute_result"
    }
   ],
   "source": [
    "spray_df.columns"
   ]
  },
  {
   "cell_type": "code",
   "execution_count": 61,
   "metadata": {},
   "outputs": [
    {
     "data": {
      "text/plain": [
       "Date           0\n",
       "Time         584\n",
       "Latitude       0\n",
       "Longitude      0\n",
       "dtype: int64"
      ]
     },
     "execution_count": 61,
     "metadata": {},
     "output_type": "execute_result"
    }
   ],
   "source": [
    "spray_df.isnull().sum()"
   ]
  },
  {
   "cell_type": "code",
   "execution_count": 62,
   "metadata": {},
   "outputs": [
    {
     "data": {
      "text/plain": [
       "541"
      ]
     },
     "execution_count": 62,
     "metadata": {},
     "output_type": "execute_result"
    }
   ],
   "source": [
    "spray_df.duplicated().sum()"
   ]
  },
  {
   "cell_type": "code",
   "execution_count": 63,
   "metadata": {},
   "outputs": [],
   "source": [
    "spray_df = spray_df.drop_duplicates()"
   ]
  },
  {
   "cell_type": "code",
   "execution_count": 64,
   "metadata": {},
   "outputs": [
    {
     "data": {
      "text/plain": [
       "0"
      ]
     },
     "execution_count": 64,
     "metadata": {},
     "output_type": "execute_result"
    }
   ],
   "source": [
    "spray_df.duplicated().sum()"
   ]
  },
  {
   "cell_type": "code",
   "execution_count": 65,
   "metadata": {},
   "outputs": [
    {
     "data": {
      "text/plain": [
       "(14294, 4)"
      ]
     },
     "execution_count": 65,
     "metadata": {},
     "output_type": "execute_result"
    }
   ],
   "source": [
    "spray_df.shape"
   ]
  },
  {
   "cell_type": "code",
   "execution_count": 66,
   "metadata": {},
   "outputs": [
    {
     "name": "stderr",
     "output_type": "stream",
     "text": [
      "C:\\Users\\DELL\\AppData\\Local\\Temp\\ipykernel_24208\\591369114.py:1: FutureWarning: DataFrame.interpolate with object dtype is deprecated and will raise in a future version. Call obj.infer_objects(copy=False) before interpolating instead.\n",
      "  spray_df2 = spray_df.interpolate()\n"
     ]
    }
   ],
   "source": [
    "spray_df2 = spray_df.interpolate()"
   ]
  },
  {
   "cell_type": "code",
   "execution_count": 67,
   "metadata": {},
   "outputs": [
    {
     "name": "stderr",
     "output_type": "stream",
     "text": [
      "C:\\Users\\DELL\\AppData\\Local\\Temp\\ipykernel_24208\\4056623798.py:1: FutureWarning: Series.fillna with 'method' is deprecated and will raise in a future version. Use obj.ffill() or obj.bfill() instead.\n",
      "  spray_df['Time'] = spray_df['Time'].fillna(method='ffill')\n",
      "C:\\Users\\DELL\\AppData\\Local\\Temp\\ipykernel_24208\\4056623798.py:1: SettingWithCopyWarning: \n",
      "A value is trying to be set on a copy of a slice from a DataFrame.\n",
      "Try using .loc[row_indexer,col_indexer] = value instead\n",
      "\n",
      "See the caveats in the documentation: https://pandas.pydata.org/pandas-docs/stable/user_guide/indexing.html#returning-a-view-versus-a-copy\n",
      "  spray_df['Time'] = spray_df['Time'].fillna(method='ffill')\n"
     ]
    }
   ],
   "source": [
    "spray_df['Time'] = spray_df['Time'].fillna(method='ffill')"
   ]
  },
  {
   "cell_type": "code",
   "execution_count": 68,
   "metadata": {},
   "outputs": [
    {
     "data": {
      "text/plain": [
       "Date         0\n",
       "Time         0\n",
       "Latitude     0\n",
       "Longitude    0\n",
       "dtype: int64"
      ]
     },
     "execution_count": 68,
     "metadata": {},
     "output_type": "execute_result"
    }
   ],
   "source": [
    "spray_df.isnull().sum()"
   ]
  },
  {
   "cell_type": "code",
   "execution_count": 69,
   "metadata": {},
   "outputs": [
    {
     "data": {
      "text/html": [
       "<div>\n",
       "<style scoped>\n",
       "    .dataframe tbody tr th:only-of-type {\n",
       "        vertical-align: middle;\n",
       "    }\n",
       "\n",
       "    .dataframe tbody tr th {\n",
       "        vertical-align: top;\n",
       "    }\n",
       "\n",
       "    .dataframe thead th {\n",
       "        text-align: right;\n",
       "    }\n",
       "</style>\n",
       "<table border=\"1\" class=\"dataframe\">\n",
       "  <thead>\n",
       "    <tr style=\"text-align: right;\">\n",
       "      <th></th>\n",
       "      <th>Date</th>\n",
       "      <th>Time</th>\n",
       "      <th>Latitude</th>\n",
       "      <th>Longitude</th>\n",
       "    </tr>\n",
       "  </thead>\n",
       "  <tbody>\n",
       "    <tr>\n",
       "      <th>12955</th>\n",
       "      <td>2013-08-29</td>\n",
       "      <td>10:19:50 PM</td>\n",
       "      <td>41.762918</td>\n",
       "      <td>-87.707632</td>\n",
       "    </tr>\n",
       "    <tr>\n",
       "      <th>12956</th>\n",
       "      <td>2013-08-29</td>\n",
       "      <td>10:20:00 PM</td>\n",
       "      <td>41.763350</td>\n",
       "      <td>-87.707642</td>\n",
       "    </tr>\n",
       "    <tr>\n",
       "      <th>12957</th>\n",
       "      <td>2013-08-29</td>\n",
       "      <td>10:20:10 PM</td>\n",
       "      <td>41.763852</td>\n",
       "      <td>-87.707657</td>\n",
       "    </tr>\n",
       "    <tr>\n",
       "      <th>12958</th>\n",
       "      <td>2013-08-29</td>\n",
       "      <td>10:23:20 PM</td>\n",
       "      <td>41.764145</td>\n",
       "      <td>-87.700388</td>\n",
       "    </tr>\n",
       "    <tr>\n",
       "      <th>12959</th>\n",
       "      <td>2013-08-29</td>\n",
       "      <td>10:23:30 PM</td>\n",
       "      <td>41.763628</td>\n",
       "      <td>-87.700377</td>\n",
       "    </tr>\n",
       "    <tr>\n",
       "      <th>12960</th>\n",
       "      <td>2013-08-29</td>\n",
       "      <td>10:23:40 PM</td>\n",
       "      <td>41.763043</td>\n",
       "      <td>-87.700352</td>\n",
       "    </tr>\n",
       "    <tr>\n",
       "      <th>12961</th>\n",
       "      <td>2013-08-29</td>\n",
       "      <td>10:24:00 PM</td>\n",
       "      <td>41.762310</td>\n",
       "      <td>-87.700327</td>\n",
       "    </tr>\n",
       "    <tr>\n",
       "      <th>12962</th>\n",
       "      <td>2013-08-29</td>\n",
       "      <td>10:24:10 PM</td>\n",
       "      <td>41.761770</td>\n",
       "      <td>-87.700315</td>\n",
       "    </tr>\n",
       "    <tr>\n",
       "      <th>12963</th>\n",
       "      <td>2013-08-29</td>\n",
       "      <td>10:24:20 PM</td>\n",
       "      <td>41.761193</td>\n",
       "      <td>-87.700298</td>\n",
       "    </tr>\n",
       "    <tr>\n",
       "      <th>12964</th>\n",
       "      <td>2013-08-29</td>\n",
       "      <td>10:24:30 PM</td>\n",
       "      <td>41.760755</td>\n",
       "      <td>-87.700293</td>\n",
       "    </tr>\n",
       "    <tr>\n",
       "      <th>12965</th>\n",
       "      <td>2013-08-29</td>\n",
       "      <td>10:24:40 PM</td>\n",
       "      <td>41.760168</td>\n",
       "      <td>-87.700268</td>\n",
       "    </tr>\n",
       "    <tr>\n",
       "      <th>12966</th>\n",
       "      <td>2013-08-29</td>\n",
       "      <td>10:24:50 PM</td>\n",
       "      <td>41.759555</td>\n",
       "      <td>-87.700253</td>\n",
       "    </tr>\n",
       "    <tr>\n",
       "      <th>12967</th>\n",
       "      <td>2013-08-29</td>\n",
       "      <td>10:25:00 PM</td>\n",
       "      <td>41.759168</td>\n",
       "      <td>-87.700297</td>\n",
       "    </tr>\n",
       "    <tr>\n",
       "      <th>12968</th>\n",
       "      <td>2013-08-29</td>\n",
       "      <td>10:25:10 PM</td>\n",
       "      <td>41.759422</td>\n",
       "      <td>-87.700265</td>\n",
       "    </tr>\n",
       "    <tr>\n",
       "      <th>12969</th>\n",
       "      <td>2013-08-29</td>\n",
       "      <td>10:25:20 PM</td>\n",
       "      <td>41.760127</td>\n",
       "      <td>-87.700287</td>\n",
       "    </tr>\n",
       "    <tr>\n",
       "      <th>12970</th>\n",
       "      <td>2013-08-29</td>\n",
       "      <td>10:25:30 PM</td>\n",
       "      <td>41.760758</td>\n",
       "      <td>-87.700302</td>\n",
       "    </tr>\n",
       "    <tr>\n",
       "      <th>12971</th>\n",
       "      <td>2013-08-29</td>\n",
       "      <td>10:25:40 PM</td>\n",
       "      <td>41.760842</td>\n",
       "      <td>-87.700795</td>\n",
       "    </tr>\n",
       "    <tr>\n",
       "      <th>12972</th>\n",
       "      <td>2013-08-29</td>\n",
       "      <td>10:25:50 PM</td>\n",
       "      <td>41.760778</td>\n",
       "      <td>-87.701478</td>\n",
       "    </tr>\n",
       "    <tr>\n",
       "      <th>12973</th>\n",
       "      <td>2013-08-29</td>\n",
       "      <td>10:26:00 PM</td>\n",
       "      <td>41.760180</td>\n",
       "      <td>-87.701495</td>\n",
       "    </tr>\n",
       "    <tr>\n",
       "      <th>12974</th>\n",
       "      <td>2013-08-29</td>\n",
       "      <td>10:26:10 PM</td>\n",
       "      <td>41.759455</td>\n",
       "      <td>-87.701472</td>\n",
       "    </tr>\n",
       "    <tr>\n",
       "      <th>12975</th>\n",
       "      <td>2013-08-29</td>\n",
       "      <td>10:26:20 PM</td>\n",
       "      <td>41.759077</td>\n",
       "      <td>-87.701435</td>\n",
       "    </tr>\n",
       "  </tbody>\n",
       "</table>\n",
       "</div>"
      ],
      "text/plain": [
       "             Date         Time   Latitude  Longitude\n",
       "12955  2013-08-29  10:19:50 PM  41.762918 -87.707632\n",
       "12956  2013-08-29  10:20:00 PM  41.763350 -87.707642\n",
       "12957  2013-08-29  10:20:10 PM  41.763852 -87.707657\n",
       "12958  2013-08-29  10:23:20 PM  41.764145 -87.700388\n",
       "12959  2013-08-29  10:23:30 PM  41.763628 -87.700377\n",
       "12960  2013-08-29  10:23:40 PM  41.763043 -87.700352\n",
       "12961  2013-08-29  10:24:00 PM  41.762310 -87.700327\n",
       "12962  2013-08-29  10:24:10 PM  41.761770 -87.700315\n",
       "12963  2013-08-29  10:24:20 PM  41.761193 -87.700298\n",
       "12964  2013-08-29  10:24:30 PM  41.760755 -87.700293\n",
       "12965  2013-08-29  10:24:40 PM  41.760168 -87.700268\n",
       "12966  2013-08-29  10:24:50 PM  41.759555 -87.700253\n",
       "12967  2013-08-29  10:25:00 PM  41.759168 -87.700297\n",
       "12968  2013-08-29  10:25:10 PM  41.759422 -87.700265\n",
       "12969  2013-08-29  10:25:20 PM  41.760127 -87.700287\n",
       "12970  2013-08-29  10:25:30 PM  41.760758 -87.700302\n",
       "12971  2013-08-29  10:25:40 PM  41.760842 -87.700795\n",
       "12972  2013-08-29  10:25:50 PM  41.760778 -87.701478\n",
       "12973  2013-08-29  10:26:00 PM  41.760180 -87.701495\n",
       "12974  2013-08-29  10:26:10 PM  41.759455 -87.701472\n",
       "12975  2013-08-29  10:26:20 PM  41.759077 -87.701435"
      ]
     },
     "execution_count": 69,
     "metadata": {},
     "output_type": "execute_result"
    }
   ],
   "source": [
    "# Extract rows from index 12414 to 12434 (note: end index is exclusive)\n",
    "subset_df = spray_df.iloc[12414:12435]\n",
    "subset_df\n"
   ]
  },
  {
   "cell_type": "code",
   "execution_count": null,
   "metadata": {},
   "outputs": [],
   "source": []
  }
 ],
 "metadata": {
  "kernelspec": {
   "display_name": "Python 3",
   "language": "python",
   "name": "python3"
  },
  "language_info": {
   "codemirror_mode": {
    "name": "ipython",
    "version": 3
   },
   "file_extension": ".py",
   "mimetype": "text/x-python",
   "name": "python",
   "nbconvert_exporter": "python",
   "pygments_lexer": "ipython3",
   "version": "3.12.4"
  }
 },
 "nbformat": 4,
 "nbformat_minor": 2
}
